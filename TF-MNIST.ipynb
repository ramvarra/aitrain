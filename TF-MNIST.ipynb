{
 "cells": [
  {
   "cell_type": "code",
   "execution_count": 1,
   "id": "de95ea73-ec27-4365-8076-c7aaa62cd5c2",
   "metadata": {},
   "outputs": [],
   "source": [
    "import tensorflow as tf\n",
    "import seaborn as sns\n",
    "import pandas as pd\n",
    "from tf_mnist_run import run, show_tf_info"
   ]
  },
  {
   "cell_type": "code",
   "execution_count": 2,
   "id": "fe935a41-036a-4ab3-b51a-b84613f90d6f",
   "metadata": {},
   "outputs": [
    {
     "name": "stdout",
     "output_type": "stream",
     "text": [
      "TF Version: 2.8.1\n",
      "Logical Devices: [LogicalDevice(name='/device:CPU:0', device_type='CPU')]\n",
      "Physical Devices: [PhysicalDevice(name='/physical_device:CPU:0', device_type='CPU')]\n"
     ]
    },
    {
     "name": "stderr",
     "output_type": "stream",
     "text": [
      "2022-07-04 20:29:11.182834: I tensorflow/core/platform/cpu_feature_guard.cc:151] This TensorFlow binary is optimized with oneAPI Deep Neural Network Library (oneDNN) to use the following CPU instructions in performance-critical operations:  SSE4.1 SSE4.2\n",
      "To enable them in other operations, rebuild TensorFlow with the appropriate compiler flags.\n"
     ]
    }
   ],
   "source": [
    "show_tf_info()"
   ]
  },
  {
   "cell_type": "code",
   "execution_count": 3,
   "id": "d73a4346-8c27-4266-b194-4e5c930ac7c2",
   "metadata": {},
   "outputs": [
    {
     "name": "stdout",
     "output_type": "stream",
     "text": [
      "x_train.shape: (60000, 784) dtype: float32, min: 0.0, max: 1.0, mean: 0.13066062331199646\n",
      "x_test.shape: (10000, 784) dtype: float32, min: 0.0, max: 1.0, mean: 0.13251467049121857\n",
      "y_train.shape: (60000, 10) dtype: float32, min: 0.0, max: 1.0, mean: 0.10000000149011612\n",
      "y_test.shape: (10000, 10) dtype: float32, min: 0.0, max: 1.0, mean: 0.10000000149011612\n",
      "Model: \"MNIST-3H\"\n",
      "_________________________________________________________________\n",
      " Layer (type)                Output Shape              Param #   \n",
      "=================================================================\n",
      " hidden_relu_01 (Dense)      (None, 128)               100480    \n",
      "                                                                 \n",
      " dropout (Dropout)           (None, 128)               0         \n",
      "                                                                 \n",
      " hidden_relu_02 (Dense)      (None, 128)               16512     \n",
      "                                                                 \n",
      " dropout_1 (Dropout)         (None, 128)               0         \n",
      "                                                                 \n",
      " hidden_relu_03 (Dense)      (None, 128)               16512     \n",
      "                                                                 \n",
      " dropout_2 (Dropout)         (None, 128)               0         \n",
      "                                                                 \n",
      " output_softmax (Dense)      (None, 10)                1290      \n",
      "                                                                 \n",
      "=================================================================\n",
      "Total params: 134,794\n",
      "Trainable params: 134,794\n",
      "Non-trainable params: 0\n",
      "_________________________________________________________________\n",
      "Starting the training - 10 epochs\n",
      "Epoch 1/10\n"
     ]
    },
    {
     "name": "stderr",
     "output_type": "stream",
     "text": [
      "2022-07-04 20:29:26.751193: W tensorflow/core/framework/cpu_allocator_impl.cc:82] Allocation of 150528000 exceeds 10% of free system memory.\n"
     ]
    },
    {
     "name": "stdout",
     "output_type": "stream",
     "text": [
      "736/750 [============================>.] - ETA: 0s - loss: 1.6945 - accuracy: 0.4178"
     ]
    },
    {
     "name": "stderr",
     "output_type": "stream",
     "text": [
      "2022-07-04 20:29:28.679205: W tensorflow/core/framework/cpu_allocator_impl.cc:82] Allocation of 37632000 exceeds 10% of free system memory.\n"
     ]
    },
    {
     "name": "stdout",
     "output_type": "stream",
     "text": [
      "750/750 [==============================] - 2s 3ms/step - loss: 1.6825 - accuracy: 0.4220 - val_loss: 0.7087 - val_accuracy: 0.8306\n",
      "Epoch 2/10\n",
      "750/750 [==============================] - 2s 2ms/step - loss: 0.8252 - accuracy: 0.7344 - val_loss: 0.4081 - val_accuracy: 0.8911\n",
      "Epoch 3/10\n",
      "750/750 [==============================] - 2s 2ms/step - loss: 0.6003 - accuracy: 0.8149 - val_loss: 0.3243 - val_accuracy: 0.9080\n",
      "Epoch 4/10\n",
      "750/750 [==============================] - 2s 2ms/step - loss: 0.4987 - accuracy: 0.8496 - val_loss: 0.2804 - val_accuracy: 0.9189\n",
      "Epoch 5/10\n",
      "750/750 [==============================] - 2s 2ms/step - loss: 0.4384 - accuracy: 0.8705 - val_loss: 0.2557 - val_accuracy: 0.9235\n",
      "Epoch 6/10\n",
      "750/750 [==============================] - 2s 2ms/step - loss: 0.3995 - accuracy: 0.8823 - val_loss: 0.2354 - val_accuracy: 0.9309\n",
      "Epoch 7/10\n",
      "750/750 [==============================] - 2s 2ms/step - loss: 0.3691 - accuracy: 0.8914 - val_loss: 0.2197 - val_accuracy: 0.9338\n",
      "Epoch 8/10\n",
      "750/750 [==============================] - 2s 2ms/step - loss: 0.3429 - accuracy: 0.9004 - val_loss: 0.2080 - val_accuracy: 0.9388\n",
      "Epoch 9/10\n",
      "750/750 [==============================] - 2s 2ms/step - loss: 0.3249 - accuracy: 0.9054 - val_loss: 0.1949 - val_accuracy: 0.9425\n",
      "Epoch 10/10\n",
      "750/750 [==============================] - 2s 2ms/step - loss: 0.3011 - accuracy: 0.9129 - val_loss: 0.1851 - val_accuracy: 0.9455\n",
      "Training time 0:00:17.937892 for 10 epocs. Time/epoch = 0:00:01.793789 seconds\n",
      "Evaluating the model\n",
      "313/313 [==============================] - 0s 801us/step - loss: 0.1812 - accuracy: 0.9447\n",
      "Evaluation time 0:00:00.335857 for 10000 samples.\n",
      "Test Accuracy = 0.9447000026702881\n"
     ]
    }
   ],
   "source": [
    "ret = run(epochs=50, verbose=2)"
   ]
  },
  {
   "cell_type": "code",
   "execution_count": 4,
   "id": "f88c22a8-1733-4e9e-afea-7cb32127b696",
   "metadata": {},
   "outputs": [
    {
     "data": {
      "text/plain": [
       "<AxesSubplot:>"
      ]
     },
     "execution_count": 4,
     "metadata": {},
     "output_type": "execute_result"
    },
    {
     "data": {
      "image/png": "[encoded data removed]",
      "text/plain": [
       "<Figure size 432x288 with 1 Axes>"
      ]
     },
     "metadata": {
      "needs_background": "light"
     },
     "output_type": "display_data"
    }
   ],
   "source": [
    "df = pd.DataFrame(ret['history'].history)\n",
    "sns.lineplot(data=df[['accuracy', 'val_accuracy']])"
   ]
  },
  {
   "cell_type": "code",
   "execution_count": null,
   "id": "5aca0382-41ff-4de2-876c-45a472f00c37",
   "metadata": {},
   "outputs": [],
   "source": []
  }
 ],
 "metadata": {
  "kernelspec": {
   "display_name": "Python 3 (ipykernel)",
   "language": "python",
   "name": "python3"
  },
  "language_info": {
   "codemirror_mode": {
    "name": "ipython",
    "version": 3
   },
   "file_extension": ".py",
   "mimetype": "text/x-python",
   "name": "python",
   "nbconvert_exporter": "python",
   "pygments_lexer": "ipython3",
   "version": "3.10.5"
  }
 },
 "nbformat": 4,
 "nbformat_minor": 5
}
