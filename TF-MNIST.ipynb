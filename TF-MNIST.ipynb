{
 "cells": [
  {
   "cell_type": "code",
   "execution_count": 5,
   "id": "de95ea73-ec27-4365-8076-c7aaa62cd5c2",
   "metadata": {},
   "outputs": [],
   "source": [
    "import tensorflow as tf\n",
    "import numpy as np\n",
    "\n",
    "import util"
   ]
  },
  {
   "cell_type": "code",
   "execution_count": 4,
   "id": "fe935a41-036a-4ab3-b51a-b84613f90d6f",
   "metadata": {},
   "outputs": [
    {
     "name": "stdout",
     "output_type": "stream",
     "text": [
      "TF Version: 2.6.2\n",
      "Logical Devices: [LogicalDevice(name='/device:CPU:0', device_type='CPU')]\n",
      "Physical Devices: [PhysicalDevice(name='/physical_device:CPU:0', device_type='CPU')]\n"
     ]
    }
   ],
   "source": [
    "util.show_tf_info(tf)"
   ]
  },
  {
   "cell_type": "code",
   "execution_count": 6,
   "id": "822f1010-cdd5-475c-be72-19541dd18208",
   "metadata": {},
   "outputs": [],
   "source": [
    "EPOCHS = 200\n",
    "BATCH_SIZE = 128\n",
    "VERBOSE = 1\n",
    "NUM_CLASSES = 10 # number of digits 0..9\n",
    "N_HIDDEN = 128\n",
    "VALIDATION_SPLIT = .2 # portion of train data reserved for validation\n"
   ]
  },
  {
   "cell_type": "code",
   "execution_count": 23,
   "id": "1c8032b7-7e99-44f2-be44-a2fae1bb60d9",
   "metadata": {},
   "outputs": [],
   "source": [
    "def show_stats(name, v):\n",
    "    print(f\"{name}.shape: {v.shape} dtype: {v.dtype}, min: {v.min()}, max: {v.max()}, mean: {v.mean()}\")\n",
    "    "
   ]
  },
  {
   "cell_type": "code",
   "execution_count": 29,
   "id": "e0fe3258-e302-42aa-8830-a865a930894f",
   "metadata": {},
   "outputs": [
    {
     "name": "stdout",
     "output_type": "stream",
     "text": [
      "x_train.shape: (60000, 784) dtype: float32, min: 0.0, max: 1.0, mean: 0.13066062331199646\n",
      "x_test.shape: (10000, 784) dtype: float32, min: 0.0, max: 1.0, mean: 0.13251467049121857\n",
      "y_train.shape: (60000, 10) dtype: float32, min: 0.0, max: 1.0, mean: 0.10000000149011612\n",
      "y_test.shape: (10000, 10) dtype: float32, min: 0.0, max: 1.0, mean: 0.10000000149011612\n"
     ]
    }
   ],
   "source": [
    "# load data\n",
    "(x_train, y_train), (x_test, y_test) = tf.keras.datasets.mnist.load_data()\n",
    "# reshape the X into 2D, convert to float32, normalize by dividing by 255 \n",
    "x_train, x_test = (x.reshape(x.shape[0], -1).astype(np.float32)/255 for x in (x_train, x_test))\n",
    "show_stats(\"x_train\", x_train)\n",
    "show_stats(\"x_test\", x_test)\n",
    "\n",
    "# One hot encode Y\n",
    "y_train, y_test = (tf.keras.utils.to_categorical(y, NUM_CLASSES) for y in (y_train, y_test))\n",
    "show_stats(\"y_train\", y_train)\n",
    "show_stats(\"y_test\", y_test)"
   ]
  },
  {
   "cell_type": "code",
   "execution_count": 31,
   "id": "e8b10269-f4de-4ad3-8876-313e84f63f35",
   "metadata": {},
   "outputs": [],
   "source": [
    "# Build the model\n",
    "model = tf.keras.models.Sequential()\n",
    "model.add(\n",
    "    tf.keras.layers.Dense(NUM_CLASSES, input_shape=(x_train.shape[1],), name='dense_layer', activation='softmax')\n",
    ")"
   ]
  },
  {
   "cell_type": "code",
   "execution_count": 16,
   "id": "5c3e966c-f5dd-4f64-8352-f819391281cc",
   "metadata": {},
   "outputs": [],
   "source": []
  },
  {
   "cell_type": "code",
   "execution_count": 15,
   "id": "0b2af340-c200-4077-a18d-bf05035deecf",
   "metadata": {},
   "outputs": [
    {
     "data": {
      "text/plain": [
       "(60000, 1)"
      ]
     },
     "execution_count": 15,
     "metadata": {},
     "output_type": "execute_result"
    }
   ],
   "source": [
    "y_train.shape"
   ]
  },
  {
   "cell_type": "code",
   "execution_count": null,
   "id": "d73a4346-8c27-4266-b194-4e5c930ac7c2",
   "metadata": {},
   "outputs": [],
   "source": []
  }
 ],
 "metadata": {
  "kernelspec": {
   "display_name": "Python 3 (ipykernel)",
   "language": "python",
   "name": "python3"
  },
  "language_info": {
   "codemirror_mode": {
    "name": "ipython",
    "version": 3
   },
   "file_extension": ".py",
   "mimetype": "text/x-python",
   "name": "python",
   "nbconvert_exporter": "python",
   "pygments_lexer": "ipython3",
   "version": "3.9.7"
  }
 },
 "nbformat": 4,
 "nbformat_minor": 5
}
