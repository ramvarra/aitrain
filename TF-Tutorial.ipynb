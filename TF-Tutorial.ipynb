{
 "cells": [
  {
   "cell_type": "code",
   "execution_count": 30,
   "id": "85f025cc-dbbe-466f-924f-8e2aacf07183",
   "metadata": {},
   "outputs": [],
   "source": [
    "import tensorflow as tf\n",
    "import numpy as np"
   ]
  },
  {
   "cell_type": "code",
   "execution_count": 10,
   "id": "7c43b1de-5819-4725-a21e-ca00e4a2bd08",
   "metadata": {},
   "outputs": [
    {
     "data": {
      "text/plain": [
       "'2.6.2'"
      ]
     },
     "execution_count": 10,
     "metadata": {},
     "output_type": "execute_result"
    }
   ],
   "source": [
    "tf.__version__"
   ]
  },
  {
   "cell_type": "code",
   "execution_count": 11,
   "id": "75e1cf7a-169f-413e-90f8-9937e53ff606",
   "metadata": {},
   "outputs": [
    {
     "data": {
      "text/plain": [
       "[LogicalDevice(name='/device:CPU:0', device_type='CPU')]"
      ]
     },
     "execution_count": 11,
     "metadata": {},
     "output_type": "execute_result"
    }
   ],
   "source": [
    "tf.config.list_logical_devices()"
   ]
  },
  {
   "cell_type": "code",
   "execution_count": 12,
   "id": "5bc182d3-3ef4-4174-b1f5-2826146caee5",
   "metadata": {},
   "outputs": [],
   "source": [
    "x = tf.Variable(3, name=\"x\")\n",
    "y = tf.Variable(5, name=\"y\")\n",
    "z = x ** 2 + 2*x*y + y**2"
   ]
  },
  {
   "cell_type": "code",
   "execution_count": 54,
   "id": "691a7f99-b400-47c8-b99e-e9fc3f0c8b5c",
   "metadata": {},
   "outputs": [],
   "source": [
    "w_init = np.arange(4, dtype=np.float32).reshape(2, -1)\n",
    "W = tf.Variable(w_init, name=\"W\")\n",
    "b = tf.Variable(tf.ones(shape=(2,1)), name=\"b\")"
   ]
  },
  {
   "cell_type": "code",
   "execution_count": 55,
   "id": "4dbe6d08-23cf-4f88-bf46-f80d3baa8b98",
   "metadata": {},
   "outputs": [
    {
     "name": "stdout",
     "output_type": "stream",
     "text": [
      "[[0 1]\n",
      " [2 3]]\n",
      "[[1]\n",
      " [1]]\n",
      "[[1 2]\n",
      " [3 4]]\n"
     ]
    },
    {
     "data": {
      "text/plain": [
       "(None, None, None)"
      ]
     },
     "execution_count": 55,
     "metadata": {},
     "output_type": "execute_result"
    }
   ],
   "source": [
    "tf.print(W), tf.print(b), tf.print(W+b)"
   ]
  },
  {
   "cell_type": "code",
   "execution_count": 57,
   "id": "7c0aef31-99e2-4007-955c-ca709e1d71c3",
   "metadata": {},
   "outputs": [
    {
     "name": "stdout",
     "output_type": "stream",
     "text": [
      "tf.Tensor(\n",
      "[[ 1. 21.]\n",
      " [21. 61.]], shape=(2, 2), dtype=float32)\n"
     ]
    }
   ],
   "source": [
    "@tf.function\n",
    "def model(x):\n",
    "    return W * x + b\n",
    "\n",
    "out_a = model([10, 20])\n",
    "print(out_a)"
   ]
  },
  {
   "cell_type": "code",
   "execution_count": 59,
   "id": "c473b72c-5336-4219-a27d-ba0286faf044",
   "metadata": {},
   "outputs": [],
   "source": [
    "NB_CLASSESS = 10\n",
    "INPUT_SIZE = 28*28\n",
    "model = tf.keras.Sequential()\n"
   ]
  },
  {
   "cell_type": "code",
   "execution_count": 61,
   "id": "6bf5fba1-91a6-4e14-9a97-e9f4e024bcba",
   "metadata": {},
   "outputs": [],
   "source": [
    "model.add(tf.keras.layers.Dense(\n",
    "    NB_CLASSESS, \n",
    "    input_shape=(INPUT_SIZE,), \n",
    "    kernel_initializer='zeros', \n",
    "    name='dense_layer', \n",
    "    activation='softmax')\n",
    ")\n"
   ]
  },
  {
   "cell_type": "code",
   "execution_count": null,
   "id": "8a317db0-9681-4ebd-a350-8d356a33d2ca",
   "metadata": {},
   "outputs": [],
   "source": []
  }
 ],
 "metadata": {
  "kernelspec": {
   "display_name": "Python 3 (ipykernel)",
   "language": "python",
   "name": "python3"
  },
  "language_info": {
   "codemirror_mode": {
    "name": "ipython",
    "version": 3
   },
   "file_extension": ".py",
   "mimetype": "text/x-python",
   "name": "python",
   "nbconvert_exporter": "python",
   "pygments_lexer": "ipython3",
   "version": "3.9.7"
  }
 },
 "nbformat": 4,
 "nbformat_minor": 5
}
